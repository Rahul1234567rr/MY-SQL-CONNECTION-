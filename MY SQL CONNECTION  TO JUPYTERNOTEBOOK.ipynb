{
 "cells": [
  {
   "cell_type": "code",
   "execution_count": 1,
   "id": "2d3e37ad",
   "metadata": {},
   "outputs": [
    {
     "data": {
      "text/html": [
       "<div>\n",
       "<style scoped>\n",
       "    .dataframe tbody tr th:only-of-type {\n",
       "        vertical-align: middle;\n",
       "    }\n",
       "\n",
       "    .dataframe tbody tr th {\n",
       "        vertical-align: top;\n",
       "    }\n",
       "\n",
       "    .dataframe thead th {\n",
       "        text-align: right;\n",
       "    }\n",
       "</style>\n",
       "<table border=\"1\" class=\"dataframe\">\n",
       "  <thead>\n",
       "    <tr style=\"text-align: right;\">\n",
       "      <th></th>\n",
       "      <th>id</th>\n",
       "      <th>name</th>\n",
       "      <th>address</th>\n",
       "    </tr>\n",
       "  </thead>\n",
       "  <tbody>\n",
       "    <tr>\n",
       "      <th>0</th>\n",
       "      <td>1</td>\n",
       "      <td>David Beggam</td>\n",
       "      <td>California</td>\n",
       "    </tr>\n",
       "    <tr>\n",
       "      <th>1</th>\n",
       "      <td>2</td>\n",
       "      <td>Rahul Josh</td>\n",
       "      <td>Mumbai</td>\n",
       "    </tr>\n",
       "    <tr>\n",
       "      <th>2</th>\n",
       "      <td>3</td>\n",
       "      <td>Joe Kamal</td>\n",
       "      <td>Banglore</td>\n",
       "    </tr>\n",
       "    <tr>\n",
       "      <th>3</th>\n",
       "      <td>4</td>\n",
       "      <td>Micheal John</td>\n",
       "      <td>Delhi</td>\n",
       "    </tr>\n",
       "    <tr>\n",
       "      <th>4</th>\n",
       "      <td>5</td>\n",
       "      <td>Sarath Kumar</td>\n",
       "      <td>Chennai</td>\n",
       "    </tr>\n",
       "  </tbody>\n",
       "</table>\n",
       "</div>"
      ],
      "text/plain": [
       "   id          name     address\n",
       "0   1  David Beggam  California\n",
       "1   2    Rahul Josh      Mumbai\n",
       "2   3     Joe Kamal    Banglore\n",
       "3   4  Micheal John       Delhi\n",
       "4   5  Sarath Kumar     Chennai"
      ]
     },
     "execution_count": 1,
     "metadata": {},
     "output_type": "execute_result"
    }
   ],
   "source": [
    "import sqlite3\n",
    "import pandas as pd\n",
    "df = pd.DataFrame({\"id\": [1, 2, 3, 4, 5],\n",
    "    \"name\": [\"David Beggam\", \"Rahul Josh\",\n",
    "                            \"Joe Kamal\", \"Micheal John\", \"Sarath Kumar\"],\n",
    "                  \"address\": [\"California\", \"Mumbai\",\n",
    "                              \"Banglore\", \"Delhi\", \"Chennai\"]})\n",
    "df"
   ]
  },
  {
   "cell_type": "markdown",
   "id": "f193fd51",
   "metadata": {},
   "source": []
  },
  {
   "cell_type": "code",
   "execution_count": 5,
   "id": "7ae70141",
   "metadata": {},
   "outputs": [
    {
     "data": {
      "text/html": [
       "<div>\n",
       "<style scoped>\n",
       "    .dataframe tbody tr th:only-of-type {\n",
       "        vertical-align: middle;\n",
       "    }\n",
       "\n",
       "    .dataframe tbody tr th {\n",
       "        vertical-align: top;\n",
       "    }\n",
       "\n",
       "    .dataframe thead th {\n",
       "        text-align: right;\n",
       "    }\n",
       "</style>\n",
       "<table border=\"1\" class=\"dataframe\">\n",
       "  <thead>\n",
       "    <tr style=\"text-align: right;\">\n",
       "      <th></th>\n",
       "      <th>name</th>\n",
       "      <th>address</th>\n",
       "    </tr>\n",
       "    <tr>\n",
       "      <th>id</th>\n",
       "      <th></th>\n",
       "      <th></th>\n",
       "    </tr>\n",
       "  </thead>\n",
       "  <tbody>\n",
       "    <tr>\n",
       "      <th>1</th>\n",
       "      <td>David Beggam</td>\n",
       "      <td>California</td>\n",
       "    </tr>\n",
       "    <tr>\n",
       "      <th>2</th>\n",
       "      <td>Rahul Josh</td>\n",
       "      <td>Mumbai</td>\n",
       "    </tr>\n",
       "    <tr>\n",
       "      <th>3</th>\n",
       "      <td>Joe Kamal</td>\n",
       "      <td>Banglore</td>\n",
       "    </tr>\n",
       "    <tr>\n",
       "      <th>4</th>\n",
       "      <td>Micheal John</td>\n",
       "      <td>Delhi</td>\n",
       "    </tr>\n",
       "    <tr>\n",
       "      <th>5</th>\n",
       "      <td>Sarath Kumar</td>\n",
       "      <td>Chennai</td>\n",
       "    </tr>\n",
       "  </tbody>\n",
       "</table>\n",
       "</div>"
      ],
      "text/plain": [
       "            name     address\n",
       "id                          \n",
       "1   David Beggam  California\n",
       "2     Rahul Josh      Mumbai\n",
       "3      Joe Kamal    Banglore\n",
       "4   Micheal John       Delhi\n",
       "5   Sarath Kumar     Chennai"
      ]
     },
     "execution_count": 5,
     "metadata": {},
     "output_type": "execute_result"
    }
   ],
   "source": [
    "df.set_index('id')\n",
    "##its already in order"
   ]
  },
  {
   "cell_type": "code",
   "execution_count": 6,
   "id": "a9c56b49",
   "metadata": {},
   "outputs": [],
   "source": [
    "import mysql.connector as sql"
   ]
  },
  {
   "cell_type": "code",
   "execution_count": 8,
   "id": "f418c1d6",
   "metadata": {},
   "outputs": [],
   "source": [
    "db=sql.connect(host='localhost',user='root',passwd='rahul1432',use_pure=True)"
   ]
  },
  {
   "cell_type": "code",
   "execution_count": 9,
   "id": "75b54e3f",
   "metadata": {},
   "outputs": [
    {
     "name": "stdout",
     "output_type": "stream",
     "text": [
      "<mysql.connector.connection.MySQLConnection object at 0x000002BDC3BB16D0>\n"
     ]
    }
   ],
   "source": [
    "print(db)"
   ]
  },
  {
   "cell_type": "code",
   "execution_count": 14,
   "id": "a1c2fd3b",
   "metadata": {},
   "outputs": [
    {
     "name": "stderr",
     "output_type": "stream",
     "text": [
      "C:\\Users\\63094\\anaconda3\\lib\\site-packages\\pandas\\io\\sql.py:761: UserWarning: pandas only support SQLAlchemy connectable(engine/connection) ordatabase string URI or sqlite3 DBAPI2 connectionother DBAPI2 objects are not tested, please consider using SQLAlchemy\n",
      "  warnings.warn(\n"
     ]
    }
   ],
   "source": [
    "data=pd.read_sql_query('show tables from employees',db)"
   ]
  },
  {
   "cell_type": "code",
   "execution_count": 15,
   "id": "7bf7baed",
   "metadata": {},
   "outputs": [
    {
     "data": {
      "text/html": [
       "<div>\n",
       "<style scoped>\n",
       "    .dataframe tbody tr th:only-of-type {\n",
       "        vertical-align: middle;\n",
       "    }\n",
       "\n",
       "    .dataframe tbody tr th {\n",
       "        vertical-align: top;\n",
       "    }\n",
       "\n",
       "    .dataframe thead th {\n",
       "        text-align: right;\n",
       "    }\n",
       "</style>\n",
       "<table border=\"1\" class=\"dataframe\">\n",
       "  <thead>\n",
       "    <tr style=\"text-align: right;\">\n",
       "      <th></th>\n",
       "      <th>Tables_in_employees</th>\n",
       "    </tr>\n",
       "  </thead>\n",
       "  <tbody>\n",
       "    <tr>\n",
       "      <th>0</th>\n",
       "      <td>business_analysis</td>\n",
       "    </tr>\n",
       "    <tr>\n",
       "      <th>1</th>\n",
       "      <td>current_dept_emp</td>\n",
       "    </tr>\n",
       "    <tr>\n",
       "      <th>2</th>\n",
       "      <td>department_dup</td>\n",
       "    </tr>\n",
       "    <tr>\n",
       "      <th>3</th>\n",
       "      <td>departments</td>\n",
       "    </tr>\n",
       "    <tr>\n",
       "      <th>4</th>\n",
       "      <td>dept_emp</td>\n",
       "    </tr>\n",
       "    <tr>\n",
       "      <th>5</th>\n",
       "      <td>dept_emp_latest_date</td>\n",
       "    </tr>\n",
       "    <tr>\n",
       "      <th>6</th>\n",
       "      <td>dept_manager</td>\n",
       "    </tr>\n",
       "    <tr>\n",
       "      <th>7</th>\n",
       "      <td>dept_manager_dup</td>\n",
       "    </tr>\n",
       "    <tr>\n",
       "      <th>8</th>\n",
       "      <td>employees</td>\n",
       "    </tr>\n",
       "    <tr>\n",
       "      <th>9</th>\n",
       "      <td>salaries</td>\n",
       "    </tr>\n",
       "    <tr>\n",
       "      <th>10</th>\n",
       "      <td>titles</td>\n",
       "    </tr>\n",
       "  </tbody>\n",
       "</table>\n",
       "</div>"
      ],
      "text/plain": [
       "     Tables_in_employees\n",
       "0      business_analysis\n",
       "1       current_dept_emp\n",
       "2         department_dup\n",
       "3            departments\n",
       "4               dept_emp\n",
       "5   dept_emp_latest_date\n",
       "6           dept_manager\n",
       "7       dept_manager_dup\n",
       "8              employees\n",
       "9               salaries\n",
       "10                titles"
      ]
     },
     "execution_count": 15,
     "metadata": {},
     "output_type": "execute_result"
    }
   ],
   "source": [
    "data"
   ]
  },
  {
   "cell_type": "code",
   "execution_count": 24,
   "id": "85c772b0",
   "metadata": {},
   "outputs": [],
   "source": [
    "db1=sql.connect(host='localhost',user='root',passwd='rahul1432',use_pure=True,database='hi')"
   ]
  },
  {
   "cell_type": "code",
   "execution_count": 25,
   "id": "4ce094ae",
   "metadata": {},
   "outputs": [],
   "source": [
    "c=db1.cursor()"
   ]
  },
  {
   "cell_type": "code",
   "execution_count": 26,
   "id": "2fa0dfd4",
   "metadata": {},
   "outputs": [],
   "source": [
    "c.execute(\"create table students(id int(4) auto_increment primary key,name varchar(255),occupation varchar(255))\")"
   ]
  },
  {
   "cell_type": "code",
   "execution_count": 28,
   "id": "68e3af17",
   "metadata": {},
   "outputs": [],
   "source": [
    "s='insert into students(name,occupation) value (%s,%s)'"
   ]
  },
  {
   "cell_type": "code",
   "execution_count": 29,
   "id": "6e4572a3",
   "metadata": {},
   "outputs": [],
   "source": [
    "v=('rahul','student')"
   ]
  },
  {
   "cell_type": "code",
   "execution_count": 30,
   "id": "03c2a02e",
   "metadata": {},
   "outputs": [],
   "source": [
    "c.execute(s,v)"
   ]
  },
  {
   "cell_type": "code",
   "execution_count": 31,
   "id": "ff8f123f",
   "metadata": {},
   "outputs": [],
   "source": [
    "db1.commit()"
   ]
  },
  {
   "cell_type": "code",
   "execution_count": 37,
   "id": "130fb686",
   "metadata": {},
   "outputs": [],
   "source": [
    "b='select * from students'"
   ]
  },
  {
   "cell_type": "code",
   "execution_count": 39,
   "id": "48d3e0d2",
   "metadata": {},
   "outputs": [
    {
     "ename": "TypeError",
     "evalue": "executemany() missing 1 required positional argument: 'seq_params'",
     "output_type": "error",
     "traceback": [
      "\u001b[1;31m---------------------------------------------------------------------------\u001b[0m",
      "\u001b[1;31mTypeError\u001b[0m                                 Traceback (most recent call last)",
      "\u001b[1;32m<ipython-input-39-5c0492de91f9>\u001b[0m in \u001b[0;36m<module>\u001b[1;34m\u001b[0m\n\u001b[1;32m----> 1\u001b[1;33m \u001b[0mc\u001b[0m\u001b[1;33m.\u001b[0m\u001b[0mexecutemany\u001b[0m\u001b[1;33m(\u001b[0m\u001b[0mb\u001b[0m\u001b[1;33m)\u001b[0m\u001b[1;33m\u001b[0m\u001b[1;33m\u001b[0m\u001b[0m\n\u001b[0m",
      "\u001b[1;31mTypeError\u001b[0m: executemany() missing 1 required positional argument: 'seq_params'"
     ]
    }
   ],
   "source": [
    "c.executemany()"
   ]
  },
  {
   "cell_type": "code",
   "execution_count": null,
   "id": "ae86511e",
   "metadata": {},
   "outputs": [],
   "source": []
  },
  {
   "cell_type": "code",
   "execution_count": null,
   "id": "ce90959f",
   "metadata": {},
   "outputs": [],
   "source": []
  }
 ],
 "metadata": {
  "kernelspec": {
   "display_name": "Python 3",
   "language": "python",
   "name": "python3"
  },
  "language_info": {
   "codemirror_mode": {
    "name": "ipython",
    "version": 3
   },
   "file_extension": ".py",
   "mimetype": "text/x-python",
   "name": "python",
   "nbconvert_exporter": "python",
   "pygments_lexer": "ipython3",
   "version": "3.8.8"
  }
 },
 "nbformat": 4,
 "nbformat_minor": 5
}
